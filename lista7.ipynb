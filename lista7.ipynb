{
 "cells": [
  {
   "cell_type": "markdown",
   "metadata": {},
   "source": [
    "Exercício 1 A"
   ]
  },
  {
   "cell_type": "code",
   "execution_count": 81,
   "metadata": {},
   "outputs": [
    {
     "name": "stdout",
     "output_type": "stream",
     "text": [
      "** Espaço amostral **\n",
      "('Cara', 'Cara', 'Cara')\n",
      "('Cara', 'Cara', 'Coroa')\n",
      "('Cara', 'Coroa', 'Cara')\n",
      "('Cara', 'Coroa', 'Coroa')\n",
      "('Coroa', 'Cara', 'Cara')\n",
      "('Coroa', 'Cara', 'Coroa')\n",
      "('Coroa', 'Coroa', 'Cara')\n",
      "('Coroa', 'Coroa', 'Coroa')\n",
      "\n",
      "Existem 8 elementos no espaço amostral.\n"
     ]
    }
   ],
   "source": [
    "import itertools\n",
    "# Resultados para o lançamento da moeda e do dado\n",
    "moeda = ['Cara', 'Coroa']\n",
    "moeda = ['Cara', 'Coroa']\n",
    "moeda = ['Cara', 'Coroa']\n",
    "# Criação do espaço amostral\n",
    "omega = [resultado for resultado in itertools.product(moeda, moeda, moeda)]\n",
    "# Visualização dos elementos do espaço amostral\n",
    "print('** Espaço amostral **')\n",
    "for resultado in omega:\n",
    "  print(resultado)\n",
    "# Número de elementos no espaço amostral\n",
    "n_omega = len(omega)\n",
    "print(f'\\nExistem {n_omega} elementos no espaço amostral.')"
   ]
  },
  {
   "cell_type": "markdown",
   "metadata": {},
   "source": [
    "Exercício 1 B"
   ]
  },
  {
   "cell_type": "code",
   "execution_count": 82,
   "metadata": {},
   "outputs": [
    {
     "name": "stdout",
     "output_type": "stream",
     "text": [
      "** Espaço amostral **\n",
      "('A', '+')\n",
      "('A', '-')\n",
      "('B', '+')\n",
      "('B', '-')\n",
      "('O', '+')\n",
      "('O', '-')\n",
      "('AB', '+')\n",
      "('AB', '-')\n",
      "\n",
      "Existem 8 elementos no espaço amostral.\n"
     ]
    }
   ],
   "source": [
    "import itertools\n",
    "# Resultados para o lançamento da moeda e do dado\n",
    "sangue = ['A','B','O','AB']\n",
    "Rh = ['+','-']\n",
    "# Criação do espaço amostral\n",
    "omega = [resultado for resultado in itertools.product(sangue,Rh)]\n",
    "# Visualização dos elementos do espaço amostral\n",
    "print('** Espaço amostral **')\n",
    "for resultado in omega:\n",
    "  print(resultado)\n",
    "# Número de elementos no espaço amostral\n",
    "n_omega = len(omega)\n",
    "print(f'\\nExistem {n_omega} elementos no espaço amostral.')"
   ]
  },
  {
   "cell_type": "markdown",
   "metadata": {},
   "source": [
    "Exercício 1 C"
   ]
  },
  {
   "cell_type": "code",
   "execution_count": 83,
   "metadata": {},
   "outputs": [
    {
     "name": "stdout",
     "output_type": "stream",
     "text": [
      "** Espaço amostral **\n",
      "('1', '1')\n",
      "('1', '2')\n",
      "('1', '3')\n",
      "('1', '4')\n",
      "('1', '5')\n",
      "('1', '6')\n",
      "('2', '1')\n",
      "('2', '2')\n",
      "('2', '3')\n",
      "('2', '4')\n",
      "('2', '5')\n",
      "('2', '6')\n",
      "('3', '1')\n",
      "('3', '2')\n",
      "('3', '3')\n",
      "('3', '4')\n",
      "('3', '5')\n",
      "('3', '6')\n",
      "('4', '1')\n",
      "('4', '2')\n",
      "('4', '3')\n",
      "('4', '4')\n",
      "('4', '5')\n",
      "('4', '6')\n",
      "('5', '1')\n",
      "('5', '2')\n",
      "('5', '3')\n",
      "('5', '4')\n",
      "('5', '5')\n",
      "('5', '6')\n",
      "('6', '1')\n",
      "('6', '2')\n",
      "('6', '3')\n",
      "('6', '4')\n",
      "('6', '5')\n",
      "('6', '6')\n",
      "\n",
      "Existem 36 elementos no espaço amostral.\n"
     ]
    }
   ],
   "source": [
    "import itertools\n",
    "# Resultados para o lançamento da moeda e do dado\n",
    "dado = ['1', '2', '3', '4', '5', '6']\n",
    "dado = ['1', '2', '3', '4', '5', '6']\n",
    "# Criação do espaço amostral\n",
    "omega = [resultado for resultado in itertools.product(dado, dado)]\n",
    "# Visualização dos elementos do espaço amostral\n",
    "print('** Espaço amostral **')\n",
    "for resultado in omega:\n",
    "  print(resultado)\n",
    "# Número de elementos no espaço amostral\n",
    "n_omega = len(omega)\n",
    "print(f'\\nExistem {n_omega} elementos no espaço amostral.')"
   ]
  },
  {
   "cell_type": "markdown",
   "metadata": {},
   "source": [
    "Exercício 2"
   ]
  },
  {
   "cell_type": "code",
   "execution_count": 84,
   "metadata": {},
   "outputs": [
    {
     "name": "stdout",
     "output_type": "stream",
     "text": [
      "Opções de reifeições: 200\n",
      "Combinações de senha: 4500\n"
     ]
    }
   ],
   "source": [
    "print(f\"Opções de reifeições: {5*10*4}\")\n",
    "print(f\"Combinações de senha: {9*10*10*5}\")"
   ]
  },
  {
   "cell_type": "markdown",
   "metadata": {},
   "source": [
    "Exercício 3"
   ]
  },
  {
   "cell_type": "code",
   "execution_count": 85,
   "metadata": {},
   "outputs": [
    {
     "name": "stdout",
     "output_type": "stream",
     "text": [
      "Probabilidade de uma pessoa bem preparada: 11.97%\n",
      "Probabilidade de uma pessoa não esteja bem preparada: 15.58%\n"
     ]
    }
   ],
   "source": [
    "print(f\"Probabilidade de uma pessoa bem preparada: {(259/2163)*100:.2f}%\")\n",
    "print(f\"Probabilidade de uma pessoa não esteja bem preparada: {(337/2163)*100:.2f}%\")\n"
   ]
  },
  {
   "cell_type": "markdown",
   "metadata": {},
   "source": [
    "Exercício 4"
   ]
  },
  {
   "cell_type": "code",
   "execution_count": 86,
   "metadata": {},
   "outputs": [
    {
     "name": "stdout",
     "output_type": "stream",
     "text": [
      "Probabilidade de que um morador não tenha 15 a 29 anos: 89.64%\n",
      "Probabilidade de que um morador não tenha 45 a 59 anos: 72.54%\n"
     ]
    }
   ],
   "source": [
    "print(f\"Probabilidade de que um morador não tenha 15 a 29 anos: {(173/193)*100:.2f}%\")\n",
    "print(f\"Probabilidade de que um morador não tenha 45 a 59 anos: {(140/193)*100:.2f}%\")"
   ]
  },
  {
   "cell_type": "markdown",
   "metadata": {},
   "source": [
    "Exercício 5"
   ]
  },
  {
   "cell_type": "code",
   "execution_count": 87,
   "metadata": {},
   "outputs": [
    {
     "name": "stdout",
     "output_type": "stream",
     "text": [
      "(1, 'Amarelo')\n",
      "(1, 'Vermelho')\n",
      "(1, 'Azul')\n",
      "(1, 'Verde')\n",
      "(2, 'Amarelo')\n",
      "(2, 'Vermelho')\n",
      "(2, 'Azul')\n",
      "(2, 'Verde')\n",
      "(3, 'Amarelo')\n",
      "(3, 'Vermelho')\n",
      "(3, 'Azul')\n",
      "(3, 'Verde')\n",
      "(4, 'Amarelo')\n",
      "(4, 'Vermelho')\n",
      "(4, 'Azul')\n",
      "(4, 'Verde')\n",
      "(5, 'Amarelo')\n",
      "(5, 'Vermelho')\n",
      "(5, 'Azul')\n",
      "(5, 'Verde')\n",
      "(6, 'Amarelo')\n",
      "(6, 'Vermelho')\n",
      "(6, 'Azul')\n",
      "(6, 'Verde')\n",
      "\n",
      "Existem 24 elementos no seu espaço amostral\n",
      "** Evento 1**\n",
      "(5, 'Azul')\n",
      "** Evento 2**\n",
      "(1, 'Verde')\n",
      "(3, 'Verde')\n",
      "(5, 'Verde')\n",
      "** Evento 3**\n",
      "(1, 'Amarelo')\n",
      "(2, 'Amarelo')\n",
      "(3, 'Amarelo')\n",
      "(4, 'Amarelo')\n",
      "(5, 'Amarelo')\n",
      "** Evento 4**\n",
      "(6, 'Amarelo')\n"
     ]
    }
   ],
   "source": [
    "import itertools\n",
    "dado = [1,2,3,4,5,6]\n",
    "cores = [\"Amarelo\",\"Vermelho\",\"Azul\",\"Verde\"]\n",
    "# Criação do espaço amostral\n",
    "esp_amostral = [res for res in itertools.product(dado, cores)]\n",
    "# Visualização dos elementos do espaço amostral\n",
    "for resultado in esp_amostral:\n",
    "    print(resultado)\n",
    "# Número de elementos no espaço amostral\n",
    "elementos = len(esp_amostral)\n",
    "print(f'\\nExistem {elementos} elementos no seu espaço amostral')\n",
    "evento_1 = [escolha for escolha in esp_amostral if 5 in escolha if \"Azul\" in escolha]\n",
    "print('** Evento 1**')\n",
    "for resultado in evento_1:\n",
    "  print(resultado)\n",
    "evento_1 = [escolha for escolha in esp_amostral if escolha[0]%2 != 0 if \"Verde\" in escolha]\n",
    "print('** Evento 2**')\n",
    "for resultado in evento_1:\n",
    "  print(resultado)\n",
    "evento_1 = [escolha for escolha in esp_amostral if escolha[0] < 6 if \"Amarelo\" in escolha]\n",
    "print('** Evento 3**')\n",
    "for resultado in evento_1:\n",
    "  print(resultado)\n",
    "evento_1 = [escolha for escolha in esp_amostral if escolha[0] == 6 if \"Amarelo\" in escolha]\n",
    "print('** Evento 4**')\n",
    "for resultado in evento_1:\n",
    "  print(resultado)"
   ]
  },
  {
   "cell_type": "markdown",
   "metadata": {},
   "source": [
    "Exercício 6"
   ]
  },
  {
   "cell_type": "code",
   "execution_count": 88,
   "metadata": {},
   "outputs": [
    {
     "name": "stdout",
     "output_type": "stream",
     "text": [
      "117000\n",
      "0.0008547008547008548\n",
      "11699999.9991453\n"
     ]
    }
   ],
   "source": [
    "possibilidades = (26*9*10*10*5)\n",
    "print(possibilidades)\n",
    "print((1/possibilidades)*100)\n",
    "print((possibilidades-1/possibilidades)*100)"
   ]
  },
  {
   "cell_type": "markdown",
   "metadata": {},
   "source": [
    "Exercício 7 "
   ]
  },
  {
   "cell_type": "code",
   "execution_count": 89,
   "metadata": {},
   "outputs": [
    {
     "name": "stdout",
     "output_type": "stream",
     "text": [
      "** Espaço amostral **\n",
      "('sol', 'sol', 'sol')\n",
      "('sol', 'sol', 'chuva')\n",
      "('sol', 'chuva', 'sol')\n",
      "('sol', 'chuva', 'chuva')\n",
      "('chuva', 'sol', 'sol')\n",
      "('chuva', 'sol', 'chuva')\n",
      "('chuva', 'chuva', 'sol')\n",
      "('chuva', 'chuva', 'chuva')\n",
      "\n",
      "Existem 8 elementos no espaço amostral.\n"
     ]
    }
   ],
   "source": [
    "import itertools\n",
    "# Resultados para o lançamento da moeda e do dado\n",
    "tempo=['sol','chuva']\n",
    "# Criação do espaço amostral\n",
    "omega = [resultado for resultado in itertools.product(tempo,tempo,tempo)]\n",
    "# Visualização dos elementos do espaço amostral\n",
    "print('** Espaço amostral **')\n",
    "for resultado in omega:\n",
    "  print(resultado)\n",
    "# Número de elementos no espaço amostral\n",
    "n_omega = len(omega)\n",
    "print(f'\\nExistem {n_omega} elementos no espaço amostral.')"
   ]
  },
  {
   "cell_type": "markdown",
   "metadata": {},
   "source": [
    "Exercício 8"
   ]
  },
  {
   "cell_type": "code",
   "execution_count": 90,
   "metadata": {},
   "outputs": [
    {
     "name": "stdout",
     "output_type": "stream",
     "text": [
      "3.7037037037037033\n",
      "28.39506172839506\n",
      "30.864197530864196\n",
      "4.938271604938271\n"
     ]
    }
   ],
   "source": [
    "print((3/81)*100)\n",
    "print((23/81)*100)\n",
    "print((25/81)*100)\n",
    "print((4/81)*100)"
   ]
  }
 ],
 "metadata": {
  "kernelspec": {
   "display_name": "Python 3.10.4 64-bit",
   "language": "python",
   "name": "python3"
  },
  "language_info": {
   "codemirror_mode": {
    "name": "ipython",
    "version": 3
   },
   "file_extension": ".py",
   "mimetype": "text/x-python",
   "name": "python",
   "nbconvert_exporter": "python",
   "pygments_lexer": "ipython3",
   "version": "3.10.4"
  },
  "orig_nbformat": 4,
  "vscode": {
   "interpreter": {
    "hash": "1cbadf7e30f156f4e0b68f4bca81fa70237e67691d6ebe573bb449e31d409fb8"
   }
  }
 },
 "nbformat": 4,
 "nbformat_minor": 2
}
