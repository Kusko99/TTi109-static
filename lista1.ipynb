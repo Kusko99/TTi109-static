{
 "cells": [
  {
   "cell_type": "markdown",
   "metadata": {},
   "source": [
    "Exercício 1"
   ]
  },
  {
   "cell_type": "markdown",
   "metadata": {},
   "source": [
    "A) Amostragem aleatória simple, pois neste caso não há necessidade de dividir os leitores em grupos ou subgrupos e também cada leitor teria a mesma oportunidade de participar da pesquisa\n",
    "B)Representa apenas caso tenha um amostra significativa em relação a população\n",
    "C)O método de amostragem simples escolheria aletoriamente os leitores para realizar as perguntas onde cada um dos leitores teria\n",
    "a mesma chance de ser escolhido para fazer parte da pesquisa\n",
    "D)A falha mais possivél seria entrevistar um grupo muito pequenho de pessoas, não representando de forma significativo, um vies seria\n",
    "ocorrer uma falha na hora de escolher o grupo de pessoas a serem entrevistadas e esse grupo ter caracteristicas muito similares, dessa\n",
    "forma não representando toda a diversidade da populaçãoe estuda"
   ]
  },
  {
   "cell_type": "markdown",
   "metadata": {},
   "source": [
    "Exercício 2"
   ]
  },
  {
   "cell_type": "markdown",
   "metadata": {},
   "source": [
    "A) Ambos, pois teriamos dados qualitativos que rotulariam os dados quantitavios a serem coletados\n",
    "B) Os dados estarão no nível de razão, pois o zero neste caso é um zero natural é possivél gerar uma razão entre dois dados\n",
    "C) Uma amostra pois não foram todos os representantes daquela polução estudos\n",
    "D) Por ser uma amostra os dados são uma estátistica"
   ]
  }
 ],
 "metadata": {
  "kernelspec": {
   "display_name": "Python 3.10.4 64-bit",
   "language": "python",
   "name": "python3"
  },
  "language_info": {
   "name": "python",
   "version": "3.10.4"
  },
  "orig_nbformat": 4,
  "vscode": {
   "interpreter": {
    "hash": "1cbadf7e30f156f4e0b68f4bca81fa70237e67691d6ebe573bb449e31d409fb8"
   }
  }
 },
 "nbformat": 4,
 "nbformat_minor": 2
}
