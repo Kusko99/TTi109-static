{
 "cells": [
  {
   "cell_type": "code",
   "execution_count": 55,
   "metadata": {},
   "outputs": [],
   "source": [
    "import pandas as pd\n",
    "import matplotlib.pyplot as plt"
   ]
  },
  {
   "cell_type": "markdown",
   "metadata": {},
   "source": [
    "Exercício 1"
   ]
  },
  {
   "cell_type": "markdown",
   "metadata": {},
   "source": [
    "Conjunto de dados 1"
   ]
  },
  {
   "cell_type": "code",
   "execution_count": 56,
   "metadata": {},
   "outputs": [
    {
     "name": "stdout",
     "output_type": "stream",
     "text": [
      "A amplitude da distribuição é 11.\n",
      "A média da distribuição é 7.5625.\n",
      "A mediana da distribuição é 7.0.\n",
      "A moda da distribuição é 6.\n",
      "O desvio padrão da distribuição é 3.4826953163701626.\n",
      "A variância da distribuição é 12.129166666666666.\n"
     ]
    }
   ],
   "source": [
    "data = pd.Series([13,10,12,11,7,8,6,6,10,7,12,4,6,5,2,2])\n",
    "v_max = data.max()\n",
    "v_min = data.min()\n",
    "amplitude = v_max-v_min\n",
    "print(f'A amplitude da distribuição é {amplitude}.')\n",
    "media = data.mean()\n",
    "print(f'A média da distribuição é {media}.')\n",
    "mediana = data.median()\n",
    "print(f'A mediana da distribuição é {mediana}.')\n",
    "moda = list(data.mode())\n",
    "print(f'A moda da distribuição é {moda[0]}.')\n",
    "desv_pad = data.std()\n",
    "print(f\"O desvio padrão da distribuição é {desv_pad}.\")\n",
    "variancia = data.var()\n",
    "print(f\"A variância da distribuição é {variancia}.\")"
   ]
  },
  {
   "cell_type": "markdown",
   "metadata": {},
   "source": [
    "Conjunto de dados 2"
   ]
  },
  {
   "cell_type": "code",
   "execution_count": 57,
   "metadata": {},
   "outputs": [
    {
     "name": "stdout",
     "output_type": "stream",
     "text": [
      "A amplitude da distribuição é 70.\n",
      "A média da distribuição é 186.1.\n",
      "A mediana da distribuição é 182.5.\n",
      "A moda da distribuição é 173.\n",
      "O desvio padrão da distribuição é 19.4390786247131.\n",
      "A variância da distribuição é 377.87777777777774.\n"
     ]
    }
   ],
   "source": [
    "data = pd.Series([173,175,200,173,160,185,195,230,190,180])\n",
    "v_max = data.max()\n",
    "v_min = data.min()\n",
    "amplitude = v_max-v_min\n",
    "print(f'A amplitude da distribuição é {amplitude}.')\n",
    "media = data.mean()\n",
    "print(f'A média da distribuição é {media}.')\n",
    "mediana = data.median()\n",
    "print(f'A mediana da distribuição é {mediana}.')\n",
    "moda = list(data.mode())\n",
    "print(f'A moda da distribuição é {moda[0]}.')\n",
    "desv_pad = data.std()\n",
    "print(f\"O desvio padrão da distribuição é {desv_pad}.\")\n",
    "variancia = data.var()\n",
    "print(f\"A variância da distribuição é {variancia}.\")"
   ]
  },
  {
   "cell_type": "markdown",
   "metadata": {},
   "source": [
    "Exercício 2"
   ]
  },
  {
   "cell_type": "markdown",
   "metadata": {},
   "source": [
    "Conjunto de dados 1"
   ]
  },
  {
   "cell_type": "code",
   "execution_count": 58,
   "metadata": {},
   "outputs": [
    {
     "name": "stdout",
     "output_type": "stream",
     "text": [
      "A amplitude da distribuição é 10.\n",
      "A média da distribuição é 17.0.\n",
      "A mediana da distribuição é 17.0.\n",
      "A moda da distribuição é 17.\n",
      "O desvio padrão da distribuição é 2.5955427380922007.\n",
      "A variância da distribuição é 6.7368421052631575.\n"
     ]
    }
   ],
   "source": [
    "data = pd.Series([16,18,19,17,14,15,17,17,17,16,19,22,24,14,16,14,17,16,14,18])\n",
    "v_max = data.max()\n",
    "v_min = data.min()\n",
    "amplitude = v_max-v_min\n",
    "print(f'A amplitude da distribuição é {amplitude}.')\n",
    "media = data.mean()\n",
    "print(f'A média da distribuição é {media}.')\n",
    "mediana = data.median()\n",
    "print(f'A mediana da distribuição é {mediana}.')\n",
    "moda = list(data.mode())\n",
    "print(f'A moda da distribuição é {moda[0]}.')\n",
    "desv_pad = data.std(ddof=1)\n",
    "print(f\"O desvio padrão da distribuição é {desv_pad}.\")\n",
    "variancia = data.var()\n",
    "print(f\"A variância da distribuição é {variancia}.\")"
   ]
  },
  {
   "cell_type": "markdown",
   "metadata": {},
   "source": [
    "Conjunto de dados 2"
   ]
  },
  {
   "cell_type": "code",
   "execution_count": 59,
   "metadata": {},
   "outputs": [
    {
     "name": "stdout",
     "output_type": "stream",
     "text": [
      "A amplitude da distribuição é 35.\n",
      "A média da distribuição é 281.35.\n",
      "A mediana da distribuição é 280.5.\n",
      "A moda da distribuição é 269.\n",
      "O desvio padrão da distribuição é 10.554495176040048.\n",
      "A variância da distribuição é 111.39736842105262.\n"
     ]
    }
   ],
   "source": [
    "data = pd.Series([277,291,295,280,268,278,291,277,282,279,296,285,269,293,267,281,286,269,264,299])\n",
    "v_max = data.max()\n",
    "v_min = data.min()\n",
    "amplitude = v_max-v_min\n",
    "print(f'A amplitude da distribuição é {amplitude}.')\n",
    "media = data.mean()\n",
    "print(f'A média da distribuição é {media}.')\n",
    "mediana = data.median()\n",
    "print(f'A mediana da distribuição é {mediana}.')\n",
    "moda = list(data.mode())\n",
    "print(f'A moda da distribuição é {moda[0]}.')\n",
    "desv_pad = data.std(ddof=1)\n",
    "print(f\"O desvio padrão da distribuição é {desv_pad}.\")\n",
    "variancia = data.var()\n",
    "print(f\"A variância da distribuição é {variancia}.\")"
   ]
  },
  {
   "cell_type": "markdown",
   "metadata": {},
   "source": [
    "Exercício 3"
   ]
  },
  {
   "cell_type": "markdown",
   "metadata": {},
   "source": [
    "O histograma I, pois é esse histograma que tem os dados mais concentrados no centro"
   ]
  },
  {
   "cell_type": "markdown",
   "metadata": {},
   "source": [
    "Exercício 4"
   ]
  },
  {
   "cell_type": "markdown",
   "metadata": {},
   "source": [
    "A)O histograma com maior desvio padrão é o histograma II, pois este apresentado os dados apenas nas pontas do histograma, tendo os dados mais espalhados. O histograma com o menor desvio padrão é o histograma III, pois apresenando os dados concentrados no centro do hsitograma, tendo os dados mais concetrados\n",
    "B)Eles se assemelham apresentando a mesma amplitude de classe, se diferem na frequência de valores apresentada"
   ]
  },
  {
   "cell_type": "markdown",
   "metadata": {},
   "source": [
    "Exercício 6"
   ]
  },
  {
   "cell_type": "markdown",
   "metadata": {},
   "source": [
    "Conjunto 1"
   ]
  },
  {
   "cell_type": "code",
   "execution_count": 60,
   "metadata": {},
   "outputs": [
    {
     "name": "stdout",
     "output_type": "stream",
     "text": [
      "0    20.801588\n",
      "dtype: float64\n",
      "0    17.690835\n",
      "dtype: float64\n"
     ]
    }
   ],
   "source": [
    "data_1 = pd.DataFrame([1520,1750,2120,1380,1980,1650,1030,1710])\n",
    "cv_1 = data_1.std(ddof=1)/data_1.mean()*100\n",
    "print(f\"{cv_1}\")\n",
    "data_2 = pd.DataFrame([1790,1510,1500,1950,2210,1870,1260,1590])\n",
    "cv_2 = data_2.std(ddof=1)/data_2.mean()*100\n",
    "print(cv_2)"
   ]
  },
  {
   "cell_type": "markdown",
   "metadata": {},
   "source": [
    "Conjunto 2"
   ]
  },
  {
   "cell_type": "code",
   "execution_count": 61,
   "metadata": {},
   "outputs": [
    {
     "name": "stdout",
     "output_type": "stream",
     "text": [
      "0    13.722234\n",
      "dtype: float64\n",
      "0    14.561627\n",
      "dtype: float64\n"
     ]
    }
   ],
   "source": [
    "data_1 = pd.DataFrame([0.295,0.310,0.325,0.272,0.256,0.297,0.320,0.384,0.235,0.297])\n",
    "cv_1 = data_1.std(ddof=1)/data_1.mean()*100\n",
    "print(f\"{cv_1}\")\n",
    "data_2 = pd.DataFrame([0.223,0.312,0.256,0.300,0.238,0.299,0.204,0.226,0.292,0.260])\n",
    "cv_2 = data_2.std(ddof=1)/data_2.mean()*100\n",
    "print(cv_2)"
   ]
  }
 ],
 "metadata": {
  "kernelspec": {
   "display_name": "Python 3.10.4 64-bit",
   "language": "python",
   "name": "python3"
  },
  "language_info": {
   "codemirror_mode": {
    "name": "ipython",
    "version": 3
   },
   "file_extension": ".py",
   "mimetype": "text/x-python",
   "name": "python",
   "nbconvert_exporter": "python",
   "pygments_lexer": "ipython3",
   "version": "3.10.4"
  },
  "orig_nbformat": 4,
  "vscode": {
   "interpreter": {
    "hash": "1cbadf7e30f156f4e0b68f4bca81fa70237e67691d6ebe573bb449e31d409fb8"
   }
  }
 },
 "nbformat": 4,
 "nbformat_minor": 2
}
