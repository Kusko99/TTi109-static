{
 "cells": [
  {
   "cell_type": "code",
   "execution_count": 25,
   "metadata": {},
   "outputs": [],
   "source": [
    "import pandas as pd\n",
    "import matplotlib.pyplot as plt"
   ]
  },
  {
   "cell_type": "markdown",
   "metadata": {},
   "source": [
    "Exercício 1"
   ]
  },
  {
   "cell_type": "markdown",
   "metadata": {},
   "source": [
    "Boxplot 1 -> Assimétrico a esquerda\n",
    "Boxplot 2 -> Assimétrico a direita\n",
    "Boxplot 3 -> Assimétrico a esquerda\n",
    "Boxplot 4 -> Simétrico"
   ]
  },
  {
   "cell_type": "markdown",
   "metadata": {},
   "source": [
    "Exercício 2 "
   ]
  },
  {
   "cell_type": "markdown",
   "metadata": {},
   "source": [
    "Conjunto de Dados 1"
   ]
  },
  {
   "cell_type": "code",
   "execution_count": 26,
   "metadata": {},
   "outputs": [
    {
     "name": "stdout",
     "output_type": "stream",
     "text": [
      "Tabela com os quartis para cada coluna numérica:\n"
     ]
    },
    {
     "data": {
      "text/html": [
       "<div>\n",
       "<style scoped>\n",
       "    .dataframe tbody tr th:only-of-type {\n",
       "        vertical-align: middle;\n",
       "    }\n",
       "\n",
       "    .dataframe tbody tr th {\n",
       "        vertical-align: top;\n",
       "    }\n",
       "\n",
       "    .dataframe thead th {\n",
       "        text-align: right;\n",
       "    }\n",
       "</style>\n",
       "<table border=\"1\" class=\"dataframe\">\n",
       "  <thead>\n",
       "    <tr style=\"text-align: right;\">\n",
       "      <th></th>\n",
       "      <th>0</th>\n",
       "    </tr>\n",
       "  </thead>\n",
       "  <tbody>\n",
       "    <tr>\n",
       "      <th>0.25</th>\n",
       "      <td>2.0</td>\n",
       "    </tr>\n",
       "    <tr>\n",
       "      <th>0.50</th>\n",
       "      <td>4.0</td>\n",
       "    </tr>\n",
       "    <tr>\n",
       "      <th>0.75</th>\n",
       "      <td>5.0</td>\n",
       "    </tr>\n",
       "  </tbody>\n",
       "</table>\n",
       "</div>"
      ],
      "text/plain": [
       "        0\n",
       "0.25  2.0\n",
       "0.50  4.0\n",
       "0.75  5.0"
      ]
     },
     "metadata": {},
     "output_type": "display_data"
    },
    {
     "data": {
      "text/plain": [
       "Text(0.5, 1.0, 'Distribuição dos dados')"
      ]
     },
     "execution_count": 26,
     "metadata": {},
     "output_type": "execute_result"
    },
    {
     "data": {
      "image/png": "[encoded data removed]",
      "text/plain": [
       "<Figure size 640x480 with 1 Axes>"
      ]
     },
     "metadata": {},
     "output_type": "display_data"
    }
   ],
   "source": [
    "df = pd.DataFrame([2,4,1,5,7,2,5,4,4,2,3,6,4,3,5,2,0,3,5,9,4,5,2,1,3,6,7,2])\n",
    "quartis = df.quantile([0.25, 0.5, 0.75], axis=0,\n",
    "                            interpolation='linear')\n",
    "print('Tabela com os quartis para cada coluna numérica:')\n",
    "display(quartis)\n",
    "df.boxplot(color = 'red', vert=True, whis=1.5, showmeans=True)\n",
    "plt.title('Distribuição dos dados')"
   ]
  },
  {
   "cell_type": "markdown",
   "metadata": {},
   "source": [
    "Conjunto de Dados 2"
   ]
  },
  {
   "cell_type": "code",
   "execution_count": 27,
   "metadata": {},
   "outputs": [
    {
     "name": "stdout",
     "output_type": "stream",
     "text": [
      "Tabela com os quartis para cada coluna numérica:\n"
     ]
    },
    {
     "data": {
      "text/html": [
       "<div>\n",
       "<style scoped>\n",
       "    .dataframe tbody tr th:only-of-type {\n",
       "        vertical-align: middle;\n",
       "    }\n",
       "\n",
       "    .dataframe tbody tr th {\n",
       "        vertical-align: top;\n",
       "    }\n",
       "\n",
       "    .dataframe thead th {\n",
       "        text-align: right;\n",
       "    }\n",
       "</style>\n",
       "<table border=\"1\" class=\"dataframe\">\n",
       "  <thead>\n",
       "    <tr style=\"text-align: right;\">\n",
       "      <th></th>\n",
       "      <th>0</th>\n",
       "    </tr>\n",
       "  </thead>\n",
       "  <tbody>\n",
       "    <tr>\n",
       "      <th>0.25</th>\n",
       "      <td>15.20</td>\n",
       "    </tr>\n",
       "    <tr>\n",
       "      <th>0.50</th>\n",
       "      <td>15.80</td>\n",
       "    </tr>\n",
       "    <tr>\n",
       "      <th>0.75</th>\n",
       "      <td>17.55</td>\n",
       "    </tr>\n",
       "  </tbody>\n",
       "</table>\n",
       "</div>"
      ],
      "text/plain": [
       "          0\n",
       "0.25  15.20\n",
       "0.50  15.80\n",
       "0.75  17.55"
      ]
     },
     "metadata": {},
     "output_type": "display_data"
    },
    {
     "data": {
      "text/plain": [
       "Text(0.5, 1.0, 'Distribuição dos dados')"
      ]
     },
     "execution_count": 27,
     "metadata": {},
     "output_type": "execute_result"
    },
    {
     "data": {
      "image/png": "[encoded data removed]",
      "text/plain": [
       "<Figure size 640x480 with 1 Axes>"
      ]
     },
     "metadata": {},
     "output_type": "display_data"
    }
   ],
   "source": [
    "df = pd.DataFrame([15.60,18.75,14.6,15.8,14.35,13.9,17.5,17.55,13.8,14.2,19.05,15.35,15.2,19.45,15.95,16.5,16.3,15.25,15.05,19.1,15.2,16.22,17.75,18.4,15.25])\n",
    "quartis = df.quantile([0.25, 0.5, 0.75], axis=0,\n",
    "                            interpolation='linear')\n",
    "print('Tabela com os quartis para cada coluna numérica:')\n",
    "display(quartis)\n",
    "df.boxplot(color = 'red', vert=True, whis=1.5, showmeans=True)\n",
    "plt.title('Distribuição dos dados')"
   ]
  },
  {
   "cell_type": "markdown",
   "metadata": {},
   "source": [
    "Exercício 3"
   ]
  },
  {
   "cell_type": "markdown",
   "metadata": {},
   "source": [
    "A) 5 horas\n",
    "B) 50%\n",
    "C) 25%"
   ]
  },
  {
   "cell_type": "markdown",
   "metadata": {},
   "source": [
    "Exercício 4"
   ]
  },
  {
   "cell_type": "markdown",
   "metadata": {},
   "source": [
    "A)17.55 doláres\n",
    "B) 50%\n",
    "C) 50%"
   ]
  },
  {
   "cell_type": "markdown",
   "metadata": {},
   "source": [
    "Exercício 5"
   ]
  },
  {
   "cell_type": "markdown",
   "metadata": {},
   "source": [
    "A) 70 polegadas, 60% dos homens adultos entre 20 e 29 tem uma altura menor ou igual a 70 polegadas\n",
    "B) 72 polegadas, 80% dos homens adultos entre 20 e 29 tem uma altura menor ou igual a 72 polegadas\n",
    "C) 90 percential, 90% dos homens adultos entre 20 e 29 tem uma altura menor ou igual a 73 polegadas\n",
    "D) 20 percentil, 20% dos homens adultos entre 20 e 29 tem uma altura menor ou igual a 67 polegadas"
   ]
  },
  {
   "cell_type": "markdown",
   "metadata": {},
   "source": [
    "Exercício 6\n"
   ]
  },
  {
   "cell_type": "markdown",
   "metadata": {},
   "source": [
    "Histograma I\n",
    "A -> z = -1,43\n",
    "B -> Z = 0\n",
    "C -> Z = 2,14 (incomum)\n",
    "Histograma II\n",
    "A -> z = -1,54\n",
    "B -> z = 0,77\n",
    "C -> z =1,54"
   ]
  },
  {
   "cell_type": "markdown",
   "metadata": {},
   "source": [
    "Exercício 7"
   ]
  },
  {
   "cell_type": "code",
   "execution_count": 28,
   "metadata": {},
   "outputs": [
    {
     "name": "stdout",
     "output_type": "stream",
     "text": [
      "BW = 1.15\n",
      "JU = -1.21\n",
      "CE = 1.74\n",
      "HC = -2.38\n",
      "FL = 2.32\n",
      "PT = -1.50\n"
     ]
    }
   ],
   "source": [
    "desv_pad = 3.4\n",
    "media = 28.1\n",
    "print(f\"BW = {(32-media)/desv_pad :.2f}\")\n",
    "print(f\"JU = {(24-media)/desv_pad :.2f}\")\n",
    "print(f\"CE = {(34-media)/desv_pad :.2f}\")\n",
    "print(f\"HC = {(20-media)/desv_pad :.2f}\")\n",
    "print(f\"FL = {(36-media)/desv_pad :.2f}\")\n",
    "print(f\"PT = {(23-media)/desv_pad :.2f}\")\n"
   ]
  },
  {
   "cell_type": "markdown",
   "metadata": {},
   "source": [
    "Exercício 8"
   ]
  },
  {
   "cell_type": "code",
   "execution_count": 29,
   "metadata": {},
   "outputs": [
    {
     "name": "stdout",
     "output_type": "stream",
     "text": [
      "34 = 0.00\n",
      "30 = -1.00\n",
      "45 = 2.75\n"
     ]
    }
   ],
   "source": [
    "desv_pad = 4\n",
    "media = 34\n",
    "print(f\"34 = {(34-media)/desv_pad :.2f}\")\n",
    "print(f\"30 = {(30-media)/desv_pad :.2f}\")\n",
    "print(f\"45 = {(45-media)/desv_pad :.2f}\")"
   ]
  }
 ],
 "metadata": {
  "kernelspec": {
   "display_name": "Python 3.10.4 64-bit",
   "language": "python",
   "name": "python3"
  },
  "language_info": {
   "codemirror_mode": {
    "name": "ipython",
    "version": 3
   },
   "file_extension": ".py",
   "mimetype": "text/x-python",
   "name": "python",
   "nbconvert_exporter": "python",
   "pygments_lexer": "ipython3",
   "version": "3.10.4"
  },
  "orig_nbformat": 4,
  "vscode": {
   "interpreter": {
    "hash": "1cbadf7e30f156f4e0b68f4bca81fa70237e67691d6ebe573bb449e31d409fb8"
   }
  }
 },
 "nbformat": 4,
 "nbformat_minor": 2
}
