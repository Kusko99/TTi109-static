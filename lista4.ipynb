{
 "cells": [
  {
   "cell_type": "code",
   "execution_count": 31,
   "metadata": {},
   "outputs": [],
   "source": [
    "import pandas as pd\n",
    "import matplotlib.pyplot as plt"
   ]
  },
  {
   "cell_type": "markdown",
   "metadata": {},
   "source": [
    "Exercício 1\n",
    "A) Histograma III\n",
    "B) Histograma I \n",
    "C) Histograma IV\n",
    "D) Histograma II"
   ]
  },
  {
   "cell_type": "markdown",
   "metadata": {},
   "source": [
    "Exercício 2"
   ]
  },
  {
   "cell_type": "markdown",
   "metadata": {},
   "source": [
    "Conjutno de dados 1"
   ]
  },
  {
   "cell_type": "code",
   "execution_count": 32,
   "metadata": {},
   "outputs": [
    {
     "name": "stdout",
     "output_type": "stream",
     "text": [
      "A média da distribuição é 14.76923076923077.\n",
      "A mediana da distribuição é 15.0.\n",
      "A moda da distribuição é 16.\n"
     ]
    }
   ],
   "source": [
    "data = pd.Series([12,14,16,15,13,14,15,18,16,16,12,16,15])\n",
    "media = data.mean()\n",
    "print(f'A média da distribuição é {media}.')\n",
    "mediana = data.median()\n",
    "print(f'A mediana da distribuição é {mediana}.')\n",
    "moda = list(data.mode())\n",
    "print(f'A moda da distribuição é {moda[0]}.')"
   ]
  },
  {
   "cell_type": "markdown",
   "metadata": {},
   "source": [
    "Conjunto de dados 2"
   ]
  },
  {
   "cell_type": "code",
   "execution_count": 33,
   "metadata": {},
   "outputs": [
    {
     "name": "stdout",
     "output_type": "stream",
     "text": [
      "A média da distribuição é 43.083333333333336.\n",
      "A mediana da distribuição é 44.0.\n",
      "A moda da distribuição é 44.\n"
     ]
    }
   ],
   "source": [
    "data = pd.Series([41,39,42,47,45,42,44,44,40,45,44,44])\n",
    "media = data.mean()\n",
    "print(f'A média da distribuição é {media}.')\n",
    "mediana = data.median()\n",
    "print(f'A mediana da distribuição é {mediana}.')\n",
    "moda = list(data.mode())\n",
    "print(f'A moda da distribuição é {moda[0]}.')"
   ]
  },
  {
   "cell_type": "markdown",
   "metadata": {},
   "source": [
    "Conjunto de dados 3"
   ]
  },
  {
   "cell_type": "code",
   "execution_count": 34,
   "metadata": {},
   "outputs": [
    {
     "name": "stdout",
     "output_type": "stream",
     "text": [
      "A média da distribuição é 61.15.\n",
      "A mediana da distribuição é 55.0.\n",
      "A moda da distribuição é 80.\n"
     ]
    }
   ],
   "source": [
    "data = pd.Series([18,26,45,75,125,80,33,40,44,49,89,80,96,125,12,61,31,63,103,28])\n",
    "media = data.mean()\n",
    "print(f'A média da distribuição é {media}.')\n",
    "mediana = data.median()\n",
    "print(f'A mediana da distribuição é {mediana}.')\n",
    "moda = list(data.mode())\n",
    "print(f'A moda da distribuição é {moda[0]}.')"
   ]
  },
  {
   "cell_type": "markdown",
   "metadata": {},
   "source": [
    "Conjunto de dados 4"
   ]
  },
  {
   "cell_type": "code",
   "execution_count": 35,
   "metadata": {},
   "outputs": [
    {
     "name": "stdout",
     "output_type": "stream",
     "text": [
      "A média da distribuição é 29.428571428571427.\n",
      "A mediana da distribuição é 31.0.\n",
      "A moda da distribuição é 34.\n"
     ]
    }
   ],
   "source": [
    "data = pd.Series([31,21,25,37,21,35,34,36,30,17,31,26,34,34])\n",
    "media = data.mean()\n",
    "print(f'A média da distribuição é {media}.')\n",
    "mediana = data.median()\n",
    "print(f'A mediana da distribuição é {mediana}.')\n",
    "moda = list(data.mode())\n",
    "print(f'A moda da distribuição é {moda[0]}.')"
   ]
  },
  {
   "cell_type": "markdown",
   "metadata": {},
   "source": [
    "Exercício 3"
   ]
  },
  {
   "cell_type": "markdown",
   "metadata": {},
   "source": [
    "Conujunto de dados 1"
   ]
  },
  {
   "cell_type": "code",
   "execution_count": 36,
   "metadata": {},
   "outputs": [
    {
     "name": "stdout",
     "output_type": "stream",
     "text": [
      "A média da distribuição é 250.0.\n",
      "A mediana da distribuição é 195.0.\n",
      "A moda da distribuição é 40.\n"
     ]
    }
   ],
   "source": [
    "data = pd.Series([40,570,180,210])\n",
    "media = data.mean()\n",
    "print(f'A média da distribuição é {media}.')\n",
    "mediana = data.median()\n",
    "print(f'A mediana da distribuição é {mediana}.')\n",
    "moda = list(data.mode())\n",
    "print(f'A moda da distribuição é {moda[0]}.')"
   ]
  },
  {
   "cell_type": "markdown",
   "metadata": {},
   "source": [
    "A medida mais válida é a mediana pois está a medida central"
   ]
  },
  {
   "cell_type": "markdown",
   "metadata": {},
   "source": [
    "Conjunto de dados 2"
   ]
  },
  {
   "cell_type": "code",
   "execution_count": 37,
   "metadata": {},
   "outputs": [
    {
     "name": "stdout",
     "output_type": "stream",
     "text": [
      "A média da distribuição é 153.5.\n",
      "A mediana da distribuição é 162.5.\n",
      "A moda da distribuição é 31.\n"
     ]
    }
   ],
   "source": [
    "data = pd.Series([258,184,31,141])\n",
    "media = data.mean()\n",
    "print(f'A média da distribuição é {media}.')\n",
    "mediana = data.median()\n",
    "print(f'A mediana da distribuição é {mediana}.')\n",
    "moda = list(data.mode())\n",
    "print(f'A moda da distribuição é {moda[0]}.')"
   ]
  },
  {
   "cell_type": "markdown",
   "metadata": {},
   "source": [
    "A medida mais válida é a mediana pois está é medida central"
   ]
  },
  {
   "cell_type": "markdown",
   "metadata": {},
   "source": [
    "Exercício 4"
   ]
  },
  {
   "cell_type": "markdown",
   "metadata": {},
   "source": [
    "Conjunto de dados 1\n",
    "Assimétrico à direita\n",
    "A -> Moda\n",
    "B -> Média\n",
    "C -> Mediana\n",
    "Conjunto de dados 2\n",
    "Assimétrico à esquerda\n",
    "A -> Média\n",
    "B -> Mediana\n",
    "C -> Moda"
   ]
  },
  {
   "cell_type": "markdown",
   "metadata": {},
   "source": [
    "Exercício 5"
   ]
  },
  {
   "cell_type": "code",
   "execution_count": 38,
   "metadata": {},
   "outputs": [
    {
     "name": "stdout",
     "output_type": "stream",
     "text": [
      "               Notas  Pesos\n",
      "Dever de Casa     85   0.05\n",
      "Testes            80   0.35\n",
      "Projeto          100   0.20\n",
      "Apresentações     90   0.15\n",
      "Prova Final       93   0.25\n",
      "A média final é 89.0\n",
      "               Notas  Pesos\n",
      "Dever de Casa      4      4\n",
      "Testes             3      3\n",
      "Projeto            3      3\n",
      "Apresentações      2      3\n",
      "Prova Final        1      2\n",
      "A média final é 2.8\n"
     ]
    }
   ],
   "source": [
    "import pandas as pd\n",
    "#conjunto de dados 1\n",
    "notas_1 = pd.DataFrame({'Notas':[85,80,100,90,93],'Pesos':[0.05,0.35,0.20,0.15,0.25]})\n",
    "notas_1.index = ['Dever de Casa','Testes','Projeto','Apresentações','Prova Final']\n",
    "print(notas_1)\n",
    "media_ponderada_1 = (notas_1['Notas']*notas_1['Pesos']).sum()/notas_1['Pesos'].sum()\n",
    "print(f'A média final é {media_ponderada_1:.1f}')\n",
    "#conjunto de dados 2\n",
    "notas_2 = pd.DataFrame({'Notas':[4,3,3,2,1],'Pesos':[4,3,3,3,2]})\n",
    "notas_2.index = ['Dever de Casa','Testes','Projeto','Apresentações','Prova Final']\n",
    "print(notas_2)\n",
    "media_ponderada_2 = (notas_2['Notas']*notas_2['Pesos']).sum()/notas_2['Pesos'].sum()\n",
    "print(f'A média final é {media_ponderada_2:.1f}')"
   ]
  },
  {
   "cell_type": "markdown",
   "metadata": {},
   "source": [
    "Exercício 7"
   ]
  },
  {
   "cell_type": "code",
   "execution_count": 39,
   "metadata": {},
   "outputs": [
    {
     "name": "stdout",
     "output_type": "stream",
     "text": [
      "A média da quantidade de café é: 6.0\n",
      "A mediana da quantidade de café é: 6.0\n",
      "A moda da quantidade de café é: 5.59\n"
     ]
    }
   ],
   "source": [
    "data_1 = pd.Series([6.03,5.59,6.40,6.00,5.99,6.02])\n",
    "media_1 = data_1.mean()\n",
    "print(f'A média da quantidade de café é: {media_1:.1f}')\n",
    "mediana_1 = data_1.median()\n",
    "print(f'A mediana da quantidade de café é: {mediana_1:.1f}')\n",
    "moda_1 = list(data_1.mode())\n",
    "print(f'A moda da quantidade de café é: {moda_1[0]}')"
   ]
  },
  {
   "cell_type": "code",
   "execution_count": 40,
   "metadata": {},
   "outputs": [
    {
     "name": "stdout",
     "output_type": "stream",
     "text": [
      "A média da quantidade de café é: 5.9\n",
      "A mediana da quantidade de café é: 6.0\n",
      "A moda da quantidade de café é: 5.59\n"
     ]
    }
   ],
   "source": [
    "data_2 = pd.Series([6.03,5.59,6.04,6.00,5.99,6.02])\n",
    "media_2 = data_2.mean()\n",
    "print(f'A média da quantidade de café é: {media_2:.1f}')\n",
    "mediana_2 = data_2.median()\n",
    "print(f'A mediana da quantidade de café é: {mediana_2:.1f}')\n",
    "moda_2 = list(data_2.mode())\n",
    "print(f'A moda da quantidade de café é: {moda_2[0]}')"
   ]
  },
  {
   "cell_type": "markdown",
   "metadata": {},
   "source": [
    "A média foi a mediada mais alterada, pois é esta que sofre mais com os outliers"
   ]
  },
  {
   "cell_type": "markdown",
   "metadata": {},
   "source": [
    "Exercício 8 A"
   ]
  },
  {
   "cell_type": "code",
   "execution_count": 41,
   "metadata": {},
   "outputs": [
    {
     "name": "stdout",
     "output_type": "stream",
     "text": [
      "A média da exportações do EUA é: 58.1\n",
      "A mediana da exportações do EUA é: 31.2\n",
      "A moda da exportações do EUA é: 10.9\n"
     ]
    }
   ],
   "source": [
    "data_1 = pd.Series([280.9,198.4,49.2,25.9,42.4,103.9,27.5,14.2,24.4,13.8,55.9,65.7,43.4,31.2,27.8,42.9,29.9,16.0,10.9])\n",
    "media_1 = data_1.mean()\n",
    "print(f'A média da exportações do EUA é: {media_1:.1f}')\n",
    "mediana_1 = data_1.median()\n",
    "print(f'A mediana da exportações do EUA é: {mediana_1:.1f}')\n",
    "moda_1 = list(data_1.mode())\n",
    "print(f'A moda da exportações do EUA é: {moda_1[0]}')"
   ]
  },
  {
   "cell_type": "markdown",
   "metadata": {},
   "source": [
    "Exercício 8 B"
   ]
  },
  {
   "cell_type": "code",
   "execution_count": 42,
   "metadata": {},
   "outputs": [
    {
     "name": "stdout",
     "output_type": "stream",
     "text": [
      "A média da exportações do EUA é: 45.7\n",
      "A mediana da exportações do EUA é: 30.5\n",
      "A moda da exportações do EUA é: 10.9\n"
     ]
    }
   ],
   "source": [
    "data_2 = pd.Series([198.4,49.2,25.9,42.4,103.9,27.5,14.2,24.4,13.8,55.9,65.7,43.4,31.2,27.8,42.9,29.9,16.0,10.9])\n",
    "media_2 = data_2.mean()\n",
    "print(f'A média da exportações do EUA é: {media_2:.1f}')\n",
    "mediana_2 = data_2.median()\n",
    "print(f'A mediana da exportações do EUA é: {mediana_2:.1f}')\n",
    "moda_2 = list(data_2.mode())\n",
    "print(f'A moda da exportações do EUA é: {moda_2[0]}')"
   ]
  },
  {
   "cell_type": "markdown",
   "metadata": {},
   "source": [
    "Exercício 8 C"
   ]
  },
  {
   "cell_type": "code",
   "execution_count": 43,
   "metadata": {},
   "outputs": [
    {
     "name": "stdout",
     "output_type": "stream",
     "text": [
      "A média da exportações do EUA é: 56.3\n",
      "A mediana da exportações do EUA é: 30.5\n",
      "A moda da exportações do EUA é: 10.9\n"
     ]
    }
   ],
   "source": [
    "data_3 = pd.Series([280.9,198.4,49.2,25.9,42.4,103.9,27.5,14.2,24.4,13.8,55.9,65.7,43.4,31.2,27.8,42.9,29.9,16.0,10.9,21.5])\n",
    "media_3 = data_3.mean()\n",
    "print(f'A média da exportações do EUA é: {media_3:.1f}')\n",
    "mediana_3 = data_3.median()\n",
    "print(f'A mediana da exportações do EUA é: {mediana_3:.1f}')\n",
    "moda_3 = list(data_3.mode())\n",
    "print(f'A moda da exportações do EUA é: {moda_3[0]}')"
   ]
  },
  {
   "cell_type": "markdown",
   "metadata": {},
   "source": [
    "Exercício 9"
   ]
  },
  {
   "cell_type": "markdown",
   "metadata": {},
   "source": [
    "A) Como este representa o conjunto de dados com maior número de outliers, o\n",
    "fabricante deveria considerar usar a Mediana como mediada central\n",
    "B)Como este representa o conjunto de dados com maior número de dados fazendo\n",
    "parte da moda e os outros não sendo outliers o fabricante deveria considerar usar\n",
    "a moda\n",
    "C) Como este conunto de dados não tem muitos dados fazendo parte da moda e não\n",
    "apresenta outliers, o fabricante deveria considerar usar a Média"
   ]
  }
 ],
 "metadata": {
  "kernelspec": {
   "display_name": "Python 3.10.4 64-bit",
   "language": "python",
   "name": "python3"
  },
  "language_info": {
   "codemirror_mode": {
    "name": "ipython",
    "version": 3
   },
   "file_extension": ".py",
   "mimetype": "text/x-python",
   "name": "python",
   "nbconvert_exporter": "python",
   "pygments_lexer": "ipython3",
   "version": "3.10.4"
  },
  "orig_nbformat": 4,
  "vscode": {
   "interpreter": {
    "hash": "1cbadf7e30f156f4e0b68f4bca81fa70237e67691d6ebe573bb449e31d409fb8"
   }
  }
 },
 "nbformat": 4,
 "nbformat_minor": 2
}
